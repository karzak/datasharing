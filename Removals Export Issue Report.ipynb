{
 "cells": [
  {
   "cell_type": "markdown",
   "metadata": {},
   "source": [
    "From Email:\n",
    "    \n",
    "   ```  \n",
    "Also, we had an issue today.  Trees that were removed from 014Ca Schaller Rd prior to today, were not showing up on the map and not searchable.  When the monitor went to put stump data in today, the trees were gone.  I checked the database to make sure stump data was not entered, and these trees did not have stump status or dates.  \n",
    "```\n",
    "\n",
    "### Issue: Trees that are removed but have not had stumps removed are not making it to the toughapads\n",
    "\n",
    "Issue in the code:\n",
    "``` \n",
    "stump_not_removed_query = _buildNotInWhereClause(\n",
    "        rem_staging_tbl, 'stump_status', stump_removed)\n",
    "    query = '\"removal_status\" <> \\'Removed\\' AND ' + stump_not_removed_query\n",
    "    \n",
    "stump_removed = [\n",
    "    u'Loam/Seed Complete',\n",
    "    u'Removed/Treated',\n",
    "    u'Stump Removed/Treated',\n",
    "    u'Stump Removed',\n",
    "    u'Stump Treated',\n",
    "    u'Stump Ground']\n",
    "```\n",
    "\n",
    "Right now, if we run this code, here is what we get"
   ]
  },
  {
   "cell_type": "code",
   "execution_count": 1,
   "metadata": {
    "collapsed": true
   },
   "outputs": [],
   "source": [
    "from orl import *\n",
    "from orl import _buildNotInWhereClause"
   ]
  },
  {
   "cell_type": "code",
   "execution_count": 2,
   "metadata": {
    "collapsed": false,
    "scrolled": true
   },
   "outputs": [
    {
     "name": "stdout",
     "output_type": "stream",
     "text": [
      "\"removal_status\" <> 'Removed' AND stump_status NOT IN('Loam/Seed Complete', 'Removed/Treated', 'Stump Removed/Treated', 'Stump Removed', 'Stump Treated', 'Stump Ground')\n"
     ]
    }
   ],
   "source": [
    "stump_not_removed_query = _buildNotInWhereClause(\n",
    "        rem_staging_tbl, 'stump_status', stump_removed)\n",
    "query = '\"removal_status\" <> \\'Removed\\' AND ' + stump_not_removed_query\n",
    "print query"
   ]
  },
  {
   "cell_type": "code",
   "execution_count": 5,
   "metadata": {
    "collapsed": false
   },
   "outputs": [
    {
     "name": "stdout",
     "output_type": "stream",
     "text": [
      "6\n"
     ]
    },
    {
     "data": {
      "text/plain": [
       "<Result 'true'>"
      ]
     },
     "execution_count": 5,
     "metadata": {},
     "output_type": "execute_result"
    }
   ],
   "source": [
    "# Let's look at how many trees there are on 014Ca Schaller Rd, Bethel, OH 45106\n",
    "\n",
    "query_addr = \"pp_address = '014Ca Schaller Rd, Bethel, OH 45106'\"\n",
    "arcpy.MakeFeatureLayer_management(os.path.join(derived_gdb, 'infested_removals'), 'inf', query_addr)\n",
    "print arcpy.GetCount_management('inf')\n",
    "arcpy.Delete_management('inf')"
   ]
  },
  {
   "cell_type": "markdown",
   "metadata": {},
   "source": [
    "As evidenced by the email, and the query, if a tree is removed, but a stump is not removed, this query will not select that record. By changing the AND to and OR, and wrapping the two statement in parentheses, I think we can fix this. "
   ]
  },
  {
   "cell_type": "code",
   "execution_count": 14,
   "metadata": {
    "collapsed": false
   },
   "outputs": [
    {
     "name": "stdout",
     "output_type": "stream",
     "text": [
      "removal_status <> 'Removed' OR (stump_status NOT IN('Loam/Seed Complete', 'Removed/Treated', 'Stump Removed/Treated', 'Stump Removed', 'Stump Treated', 'Stump Ground'))\n"
     ]
    }
   ],
   "source": [
    "stump_not_removed_query = _buildNotInWhereClause(\n",
    "        rem_staging_tbl, 'stump_status', stump_removed)\n",
    "query2 = 'removal_status <> \\'Removed\\' OR (' + stump_not_removed_query + ')'\n",
    "print query2"
   ]
  },
  {
   "cell_type": "code",
   "execution_count": 17,
   "metadata": {
    "collapsed": true
   },
   "outputs": [],
   "source": [
    "def CreateRef_InfestedAndRemovalFC(\n",
    "        inf_fc, rem_tbl, ref2_gdb, ref_fc, ref_fc_crs,\n",
    "        ref_fc_fields, fc_join_field_maps, ref_join_fields):\n",
    "    '''Function that overwrites (or creates) a feature class in\n",
    "    reference geodatabase of infested trees joined to removals.'''\n",
    "    arcpy.env.overwriteOutput = True\n",
    "    if not arcpy.Exists(os.path.join(ref2_gdb, ref_fc)):\n",
    "        arcpy.CreateFeatureclass_management(ref2_gdb, ref_fc, 'POINT')\n",
    "        arcpy.DefineProjection_management(\n",
    "            os.path.join(ref2_gdb, ref_fc), ref_fc_crs)\n",
    "        for field in ref_fc_fields:\n",
    "            arcpy.AddField_management(*(os.path.join(\n",
    "                    ref2_gdb, ref_fc),) + field)\n",
    "    else:\n",
    "        arcpy.DeleteRows_management(os.path.join(ref2_gdb, ref_fc))\n",
    "    # Join Infested and Removals\n",
    "    stump_not_removed_query = _buildNotInWhereClause(\n",
    "        rem_staging_tbl, 'stump_status', stump_removed)\n",
    "    query = '\"removal_status\" <> \\'Removed\\' OR (' + stump_not_removed_query + ')'\n",
    "    arcpy.MakeFeatureLayer_management(inf_fc, 'inf_lyr')\n",
    "    arcpy.MakeTableView_management(rem_tbl, 'rem_lyr', query)\n",
    "    arcpy.AddJoin_management(\n",
    "        'inf_lyr', 'tree_uid', 'rem_lyr', 'tree_uid', 'KEEP_COMMON')\n",
    "    # print [f.name for f in arcpy.ListFields('inf_fc')]\n",
    "    # Insert values\n",
    "    arcpy.MakeFeatureLayer_management(\n",
    "        os.path.join(ref2_gdb, ref_fc), 'inf_rem_lyr')\n",
    "    cur = arcpy.da.InsertCursor('inf_rem_lyr', ref_join_fields)\n",
    "    with arcpy.da.SearchCursor('inf_lyr', fc_join_field_maps) as scur:\n",
    "        for row in scur:\n",
    "            cur.insertRow(row)\n",
    "    # print arcpy.GetCount_management(os.path.join(ref2_gdb, ref_fc))\n",
    "    logging.info('{} New Removals Layer has {} records'.format(\n",
    "            dt(), arcpy.GetCount_management(os.path.join(ref2_gdb, ref_fc))))\n",
    "    return\n",
    "CreateRef_InfestedAndRemovalFC(\n",
    "    inf_staging_fc, rem_staging_tbl, derived_gdb, 'infested_removals',\n",
    "    ohio_crs, Inf_and_Removed_Joined, Inf_and_Removed_Joined_FieldMappings,\n",
    "    Inf_Joined_FieldMappings)"
   ]
  },
  {
   "cell_type": "code",
   "execution_count": 18,
   "metadata": {
    "collapsed": false,
    "scrolled": true
   },
   "outputs": [
    {
     "name": "stdout",
     "output_type": "stream",
     "text": [
      "50\n"
     ]
    },
    {
     "data": {
      "text/plain": [
       "<Result 'true'>"
      ]
     },
     "execution_count": 18,
     "metadata": {},
     "output_type": "execute_result"
    }
   ],
   "source": [
    "query_addr = \"pp_address = '014Ca Schaller Rd, Bethel, OH 45106'\"\n",
    "arcpy.MakeFeatureLayer_management(os.path.join(derived_gdb, 'infested_removals'), 'inf', query_addr)\n",
    "print arcpy.GetCount_management('inf')\n",
    "arcpy.Delete_management('inf')"
   ]
  },
  {
   "cell_type": "markdown",
   "metadata": {},
   "source": [
    "# Fix\n",
    "\n",
    "* Replace the original query using AND with OR and parenthesis, as in the function above."
   ]
  }
 ],
 "metadata": {
  "kernelspec": {
   "display_name": "Python 2",
   "language": "python",
   "name": "python2"
  },
  "language_info": {
   "codemirror_mode": {
    "name": "ipython",
    "version": 2
   },
   "file_extension": ".py",
   "mimetype": "text/x-python",
   "name": "python",
   "nbconvert_exporter": "python",
   "pygments_lexer": "ipython2",
   "version": "2.7.11"
  }
 },
 "nbformat": 4,
 "nbformat_minor": 0
}
