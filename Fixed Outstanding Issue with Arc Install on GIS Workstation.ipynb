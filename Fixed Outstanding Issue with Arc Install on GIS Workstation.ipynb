{
 "cells": [
  {
   "cell_type": "markdown",
   "metadata": {},
   "source": [
    "# Issue\n",
    "\n",
    "When launching arcpy jobs from the arcmap python window, the error module 'numpy' not found would cause a crash.\n",
    "\n",
    "# Fix\n",
    "\n",
    "Added the following **system environmental variable**\n",
    "\n",
    "Name: PYTHONPATH\n",
    "Value: C:\\Python27\\ArcGIS10.4\\Lib\\Site-packages\n",
    "\n",
    "This works by formally declaring to ArcGIS the laction of all modules, including numpy"
   ]
  }
 ],
 "metadata": {
  "kernelspec": {
   "display_name": "Python 2",
   "language": "python",
   "name": "python2"
  },
  "language_info": {
   "codemirror_mode": {
    "name": "ipython",
    "version": 2
   },
   "file_extension": ".py",
   "mimetype": "text/x-python",
   "name": "python",
   "nbconvert_exporter": "python",
   "pygments_lexer": "ipython2",
   "version": "2.7.11"
  }
 },
 "nbformat": 4,
 "nbformat_minor": 0
}
