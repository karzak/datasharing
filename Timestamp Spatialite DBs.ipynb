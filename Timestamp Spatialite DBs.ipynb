{
 "cells": [
  {
   "cell_type": "code",
   "execution_count": 1,
   "metadata": {
    "collapsed": true
   },
   "outputs": [],
   "source": [
    "from orl import _findOgr, _findOsgeoPy, _findOsgeoShell"
   ]
  },
  {
   "cell_type": "code",
   "execution_count": 2,
   "metadata": {
    "collapsed": false
   },
   "outputs": [
    {
     "data": {
      "text/plain": [
       "'C:\\\\OSGeo4W\\\\bin\\\\ogr2ogr.exe'"
      ]
     },
     "execution_count": 2,
     "metadata": {},
     "output_type": "execute_result"
    }
   ],
   "source": [
    "_findOgr()"
   ]
  },
  {
   "cell_type": "code",
   "execution_count": 3,
   "metadata": {
    "collapsed": false
   },
   "outputs": [
    {
     "data": {
      "text/plain": [
       "'C:\\\\OSGeo4W\\\\bin\\\\python.exe'"
      ]
     },
     "execution_count": 3,
     "metadata": {},
     "output_type": "execute_result"
    }
   ],
   "source": [
    "_findOsgeoPy()"
   ]
  },
  {
   "cell_type": "code",
   "execution_count": 4,
   "metadata": {
    "collapsed": false
   },
   "outputs": [
    {
     "data": {
      "text/plain": [
       "'C:\\\\OSGeo4W\\\\OSGeo4W.bat'"
      ]
     },
     "execution_count": 4,
     "metadata": {},
     "output_type": "execute_result"
    }
   ],
   "source": [
    "_findOsgeoShell()"
   ]
  },
  {
   "cell_type": "markdown",
   "metadata": {},
   "source": [
    "## Making updates to spatialite dbs\n",
    "\n",
    "In order to make inserts, deletes on the spatialite database, we need to call the external python included with OSGeo4W to get access to pyspatialite. Below is the template for inserts. \n",
    "\n",
    "The only trick is that you have to pass the list of tree_uid's as text. Passing directly as a python object confuses that subprocess module and passes each id as a variable. To get the list back, we use the 'eval' function which evaluates text as code. "
   ]
  },
  {
   "cell_type": "code",
   "execution_count": 1,
   "metadata": {
    "collapsed": false
   },
   "outputs": [
    {
     "name": "stdout",
     "output_type": "stream",
     "text": [
      "Overwriting UpdateSpatialiteTimestamp.py\n"
     ]
    }
   ],
   "source": [
    "%%writefile UpdateSpatialiteTimestamp.py\n",
    "\n",
    "import sys\n",
    "from pyspatialite import dbapi2 as db\n",
    "\n",
    "def _buildUpdateWhereClauseSpatialite(table, update_field,\n",
    "                                      lookup_field, valueList):\n",
    "    valueList = [\"'%s'\" % value for value in valueList]\n",
    "    whereClause = (\n",
    "        \"update %s set %s = datetime('now', 'localtime') where %s IN(%s)\" % (\n",
    "            table, update_field, lookup_field, ', '.join(map(str, valueList))))\n",
    "    return whereClause\n",
    "\n",
    "database = sys.argv[1]\n",
    "ids = eval(sys.argv[2])\n",
    "query = _buildUpdateWhereClauseSpatialite('SuspiciousRecheck', 'pp_timestamp', 'tree_uid', ids)\n",
    "# print 'the database is {}'.format(database)\n",
    "# print 'the ids are {}'.format(ids)\n",
    "# print 'the query is {}'.format(query)\n",
    "\n",
    "# print 'connecting'\n",
    "conn = db.connect(database)\n",
    "# print 'connected'\n",
    "c = conn.cursor()\n",
    "# print 'executing'\n",
    "c.execute(query)\n",
    "# print 'committing'\n",
    "conn.commit()\n",
    "# print 'commited'\n",
    "conn.close()"
   ]
  },
  {
   "cell_type": "markdown",
   "metadata": {},
   "source": [
    "Example code that takes the suspicious trees updated by Group 18 climbers and get's the tree_uids. Updates those trees in the spatialite database."
   ]
  },
  {
   "cell_type": "code",
   "execution_count": 3,
   "metadata": {
    "collapsed": false,
    "scrolled": true
   },
   "outputs": [
    {
     "name": "stdout",
     "output_type": "stream",
     "text": [
      "Overwriting TestSpatialiteTimestamp.py\n"
     ]
    }
   ],
   "source": [
    "%%writefile TestSpatialiteTimestamp.py\n",
    "\n",
    "import subprocess\n",
    "import os\n",
    "import arcpy\n",
    "from orl import _findOgr, _findOsgeoPy, _findOsgeoShell\n",
    "\n",
    "test_db = r'J:\\Project_OpsData\\OH\\3735\\ClimberResurveyOH.sqlite'\n",
    "\n",
    "bu = r'I:\\ROAM_Data\\GDBs\\ROAM_Data_Backups\\Backup_07062016.gdb'\n",
    "arcpy.env.workspace = bu\n",
    "fc = 'Group18_Recheck_SuspiciousUpdates_processed'\n",
    "tree_ids = (\n",
    "        [row[0] for row in arcpy.da.SearchCursor(\n",
    "            fc, ['tree_uid'])])\n",
    "\n",
    "# print query\n",
    "# print test_db\n",
    "\n",
    "command = [_findOsgeoShell(), _findOsgeoPy(), 'UpdateSpatialiteTimestamp.py', test_db, str(tree_ids)]\n",
    "subprocess.check_call(command, shell =True)"
   ]
  },
  {
   "cell_type": "code",
   "execution_count": 5,
   "metadata": {
    "collapsed": false,
    "scrolled": true
   },
   "outputs": [
    {
     "name": "stdout",
     "output_type": "stream",
     "text": [
      " \n",
      "OSGEO4W home is C:\\OSGeo4W\\ \n",
      "\n",
      "the database is J:\\Project_OpsData\\OH\\3735\\ClimberResurveyOH.sqlite\n",
      "the ids are [u'{02ae2d1f-0a9f-42ec-99d0-185d7e06ac78}']\n",
      "the query is update SuspiciousRecheck set pp_timestamp = datetime('now', 'localtime') where tree_uid IN('{02ae2d1f-0a9f-42ec-99d0-185d7e06ac78}')\n",
      "connecting\n",
      "connected\n",
      "executing\n",
      "committing\n",
      "commited\n"
     ]
    }
   ],
   "source": [
    "# Testing code\n",
    "!python TestSpatialiteTimestamp.py"
   ]
  },
  {
   "cell_type": "code",
   "execution_count": 1,
   "metadata": {
    "collapsed": false
   },
   "outputs": [
    {
     "name": "stdout",
     "output_type": "stream",
     "text": [
      "[(u'2016-07-07 09:16:14', u'2016-07-07 09:16:14')]\n"
     ]
    }
   ],
   "source": [
    "import sqlite3\n",
    "\n",
    "conn = sqlite3.connect(r'J:\\Project_OpsData\\OH\\3735\\ClimberResurveyOH.sqlite')\n",
    "c = conn.cursor()\n",
    "query = (\n",
    "    'select final_inspection_date, pp_timestamp from SuspiciousRecheck where '\n",
    "    'tree_uid = \\'{02ae2d1f-0a9f-42ec-99d0-185d7e06ac78}\\'')\n",
    "c.execute(query)\n",
    "print c.fetchall()\n",
    "conn.close()"
   ]
  },
  {
   "cell_type": "markdown",
   "metadata": {},
   "source": [
    "The timestamp is successfully updated (they are equal b/c of the update trigger on the database. But this is fine because our query for updates looks for 'final_inspection_date' > 'pp_timestamp'"
   ]
  },
  {
   "cell_type": "code",
   "execution_count": 8,
   "metadata": {
    "collapsed": false
   },
   "outputs": [],
   "source": [
    "update_spatialite_script = (\n",
    "    r'\\\\AAPOHAM3PFFS10\\info\\ROAM_Data\\Roam_Settings/'\n",
    "    r'DataProcessing\\UpdateSpatialiteTimestamp.py')"
   ]
  },
  {
   "cell_type": "code",
   "execution_count": 9,
   "metadata": {
    "collapsed": false
   },
   "outputs": [
    {
     "data": {
      "text/plain": [
       "True"
      ]
     },
     "execution_count": 9,
     "metadata": {},
     "output_type": "execute_result"
    }
   ],
   "source": [
    "import os\n",
    "os.path.exists(update_spatialite_script)"
   ]
  },
  {
   "cell_type": "code",
   "execution_count": 51,
   "metadata": {
    "collapsed": false
   },
   "outputs": [
    {
     "data": {
      "text/plain": [
       "\"[u'{a5bea75b-0a55-42b9-9a5a-7bbb47518b87}', u'{9821961d-c657-44b0-995d-718e90bff932}']\""
      ]
     },
     "execution_count": 51,
     "metadata": {},
     "output_type": "execute_result"
    }
   ],
   "source": [
    "tree_ids = [u'{a5bea75b-0a55-42b9-9a5a-7bbb47518b87}', u'{9821961d-c657-44b0-995d-718e90bff932}']\n",
    "str(tree_ids)"
   ]
  },
  {
   "cell_type": "code",
   "execution_count": 1,
   "metadata": {
    "collapsed": true
   },
   "outputs": [],
   "source": [
    "import arcpy\n",
    "bu = r'I:\\ROAM_Data\\GDBs\\ROAM_Data_Backups\\Backup_07062016.gdb'\n",
    "arcpy.env.workspace = bu\n",
    "fc = 'Group18_Recheck_SuspiciousUpdates_processed'\n",
    "tree_ids = (\n",
    "        [row[0] for row in arcpy.da.SearchCursor(\n",
    "            fc, ['tree_uid'])])"
   ]
  },
  {
   "cell_type": "code",
   "execution_count": 2,
   "metadata": {
    "collapsed": false
   },
   "outputs": [
    {
     "data": {
      "text/plain": [
       "[u'{02ae2d1f-0a9f-42ec-99d0-185d7e06ac78}']"
      ]
     },
     "execution_count": 2,
     "metadata": {},
     "output_type": "execute_result"
    }
   ],
   "source": [
    "tree_ids"
   ]
  }
 ],
 "metadata": {
  "kernelspec": {
   "display_name": "Python 2",
   "language": "python",
   "name": "python2"
  },
  "language_info": {
   "codemirror_mode": {
    "name": "ipython",
    "version": 2
   },
   "file_extension": ".py",
   "mimetype": "text/x-python",
   "name": "python",
   "nbconvert_exporter": "python",
   "pygments_lexer": "ipython2",
   "version": "2.7.11"
  }
 },
 "nbformat": 4,
 "nbformat_minor": 0
}
